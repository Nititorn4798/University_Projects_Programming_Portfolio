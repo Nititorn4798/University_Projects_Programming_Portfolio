{
 "cells": [
  {
   "cell_type": "code",
   "execution_count": 1,
   "metadata": {},
   "outputs": [
    {
     "name": "stdout",
     "output_type": "stream",
     "text": [
      "Table created successfully........\n"
     ]
    }
   ],
   "source": [
    "import sqlite3\n",
    "#Connecting to sqlite\n",
    "conn = sqlite3.connect('example.db')\n",
    "\n",
    "#Creating a cursor object using the cursor() method\n",
    "cursor = conn.cursor()\n",
    "\n",
    "#Doping EMPLOYEE table if already exists.\n",
    "cursor.execute(\"DROP TABLE IF EXISTS EMPLOYEE\")\n",
    "#Creating table as per requirement\n",
    "sql ='''CREATE TABLE EMPLOYEE(\n",
    "    FIRST_NAME CHAR(20) NOT NULL,\n",
    "    LAST_NAME CHAR(20),\n",
    "    AGE INT,\n",
    "    SEX CHAR(1),\n",
    "    INCOME FLOAT\n",
    ")'''\n",
    "cursor.execute(sql)\n",
    "print(\"Table created successfully........\")\n",
    "\n",
    "#Commit your changes in the database\n",
    "conn.commit()\n",
    "\n",
    "#Closing the connection\n",
    "conn.close()\n"
   ]
  }
 ],
 "metadata": {
  "kernelspec": {
   "display_name": "base",
   "language": "python",
   "name": "python3"
  },
  "language_info": {
   "codemirror_mode": {
    "name": "ipython",
    "version": 3
   },
   "file_extension": ".py",
   "mimetype": "text/x-python",
   "name": "python",
   "nbconvert_exporter": "python",
   "pygments_lexer": "ipython3",
   "version": "3.11.5"
  }
 },
 "nbformat": 4,
 "nbformat_minor": 2
}
